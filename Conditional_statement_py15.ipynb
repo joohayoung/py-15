{
  "nbformat": 4,
  "nbformat_minor": 0,
  "metadata": {
    "colab": {
      "name": "Conditional statement_py15.ipynb",
      "version": "0.3.2",
      "provenance": [],
      "include_colab_link": true
    },
    "kernelspec": {
      "name": "python3",
      "display_name": "Python 3"
    }
  },
  "cells": [
    {
      "cell_type": "markdown",
      "metadata": {
        "id": "view-in-github",
        "colab_type": "text"
      },
      "source": [
        "[View in Colaboratory](https://colab.research.google.com/github/joohayoung/py-15/blob/master/Conditional_statement_py15.ipynb)"
      ]
    },
    {
      "metadata": {
        "id": "trq6sf0skikG",
        "colab_type": "text"
      },
      "cell_type": "markdown",
      "source": [
        "##Conditional statement in Python\n",
        "\n",
        "- if\n",
        "- for\n",
        "- while"
      ]
    },
    {
      "metadata": {
        "id": "LnoVg7E4muVy",
        "colab_type": "text"
      },
      "cell_type": "markdown",
      "source": [
        "###조건문 - if"
      ]
    },
    {
      "metadata": {
        "id": "41kfyaMplOR0",
        "colab_type": "text"
      },
      "cell_type": "markdown",
      "source": [
        "###if condition:"
      ]
    },
    {
      "metadata": {
        "id": "HhOYMI8ckNoR",
        "colab_type": "code",
        "colab": {
          "base_uri": "https://localhost:8080/",
          "height": 55
        },
        "outputId": "51deb628-744f-4ffb-a4cc-c1adacae578a"
      },
      "cell_type": "code",
      "source": [
        "a=1\n",
        "if a>0:\n",
        "  print(\"a ==\", a)\n",
        "  print(\"positive number\")\n",
        "elif a==0:\n",
        "  print(\"a ==\", a)\n",
        "  print(\"Zero\")\n",
        "else:\n",
        "  print(\"a ==\", a)\n",
        "  print(\"negative number\")"
      ],
      "execution_count": 1,
      "outputs": [
        {
          "output_type": "stream",
          "text": [
            "a == 1\n",
            "positive number\n"
          ],
          "name": "stdout"
        }
      ]
    },
    {
      "metadata": {
        "id": "GtD-xQYLl6fl",
        "colab_type": "text"
      },
      "cell_type": "markdown",
      "source": [
        "###if condition in list,dict:"
      ]
    },
    {
      "metadata": {
        "id": "nHyCHRQ_l2w8",
        "colab_type": "code",
        "colab": {
          "base_uri": "https://localhost:8080/",
          "height": 55
        },
        "outputId": "cb7eeab8-6ed1-49a0-c26f-b9734af2bf1b"
      },
      "cell_type": "code",
      "source": [
        "list_data=[10,20,30,40,50]\n",
        "dict_data={'key1': 1, 'key2': 2}\n",
        "\n",
        "if 45 in list_data:\n",
        "  print(\"45 is in list_data\")\n",
        "else:\n",
        "  print(\"45 is not in list_data\")\n",
        "  \n",
        "if'key1' in dict_data:\n",
        "  print(\"key1 is in dict_data\")\n",
        "else:\n",
        "  print(\"key1 is not in list_data\")"
      ],
      "execution_count": 2,
      "outputs": [
        {
          "output_type": "stream",
          "text": [
            "45 is not in list_data\n",
            "key1 is in dict_data\n"
          ],
          "name": "stdout"
        }
      ]
    },
    {
      "metadata": {
        "id": "cpqp5feom1M4",
        "colab_type": "text"
      },
      "cell_type": "markdown",
      "source": [
        "###반복문-for"
      ]
    },
    {
      "metadata": {
        "id": "YaIgq6xTm4qI",
        "colab_type": "text"
      },
      "cell_type": "markdown",
      "source": [
        "###for variable in range(...):"
      ]
    },
    {
      "metadata": {
        "id": "uCnxPDntmm77",
        "colab_type": "code",
        "colab": {
          "base_uri": "https://localhost:8080/",
          "height": 36
        },
        "outputId": "2b4a945c-90b0-44d6-b22e-4d01a338b788"
      },
      "cell_type": "code",
      "source": [
        "for data in range(10):\n",
        "  print(data, \" \", end='')"
      ],
      "execution_count": 3,
      "outputs": [
        {
          "output_type": "stream",
          "text": [
            "0  1  2  3  4  5  6  7  8  9  "
          ],
          "name": "stdout"
        }
      ]
    },
    {
      "metadata": {
        "id": "dzBjzKl4nKWk",
        "colab_type": "code",
        "colab": {
          "base_uri": "https://localhost:8080/",
          "height": 36
        },
        "outputId": "e362454f-10f9-4d6c-a097-0e0c354068d7"
      },
      "cell_type": "code",
      "source": [
        "for data in range(0,10):\n",
        "  print(data, \" \", end='')"
      ],
      "execution_count": 4,
      "outputs": [
        {
          "output_type": "stream",
          "text": [
            "0  1  2  3  4  5  6  7  8  9  "
          ],
          "name": "stdout"
        }
      ]
    },
    {
      "metadata": {
        "id": "eVF1cpqUnSUF",
        "colab_type": "code",
        "colab": {
          "base_uri": "https://localhost:8080/",
          "height": 36
        },
        "outputId": "58e6edfa-89b9-4cca-e63f-f02a4d791ef3"
      },
      "cell_type": "code",
      "source": [
        "for data in range(0,10,2):\n",
        "  print(data, \" \", end='')"
      ],
      "execution_count": 5,
      "outputs": [
        {
          "output_type": "stream",
          "text": [
            "0  2  4  6  8  "
          ],
          "name": "stdout"
        }
      ]
    },
    {
      "metadata": {
        "id": "4hIEdYT-ncqp",
        "colab_type": "text"
      },
      "cell_type": "markdown",
      "source": [
        "###for variable in list,dict...:"
      ]
    },
    {
      "metadata": {
        "id": "1N67eD8Sna-m",
        "colab_type": "code",
        "colab": {
          "base_uri": "https://localhost:8080/",
          "height": 36
        },
        "outputId": "06d24e13-5c28-44b2-d062-8019d2189144"
      },
      "cell_type": "code",
      "source": [
        "list_data=[10,20,30,40,50]\n",
        "for data in list_data:\n",
        "  print(data, \" \", end='')"
      ],
      "execution_count": 6,
      "outputs": [
        {
          "output_type": "stream",
          "text": [
            "10  20  30  40  50  "
          ],
          "name": "stdout"
        }
      ]
    },
    {
      "metadata": {
        "id": "Z_VualWrnoTA",
        "colab_type": "code",
        "colab": {
          "base_uri": "https://localhost:8080/",
          "height": 36
        },
        "outputId": "e037622e-c1ba-4605-b831-567e59e3be46"
      },
      "cell_type": "code",
      "source": [
        "dict_data={ 'key1':1, 'key2':2}\n",
        "for data in dict_data:\n",
        "  print(data, \" \", end='')"
      ],
      "execution_count": 7,
      "outputs": [
        {
          "output_type": "stream",
          "text": [
            "key1  key2  "
          ],
          "name": "stdout"
        }
      ]
    },
    {
      "metadata": {
        "id": "9Q78oOUyn3gK",
        "colab_type": "code",
        "colab": {
          "base_uri": "https://localhost:8080/",
          "height": 55
        },
        "outputId": "ab03881c-3d65-434a-ee48-a49ebc0b8a0c"
      },
      "cell_type": "code",
      "source": [
        "for key,value in dict_data.items():\n",
        "  print(key, \" \",value)"
      ],
      "execution_count": 8,
      "outputs": [
        {
          "output_type": "stream",
          "text": [
            "key1   1\n",
            "key2   2\n"
          ],
          "name": "stdout"
        }
      ]
    },
    {
      "metadata": {
        "id": "Na4JLvUloH1o",
        "colab_type": "text"
      },
      "cell_type": "markdown",
      "source": [
        "###반복문-list comprehension"
      ]
    },
    {
      "metadata": {
        "id": "7gJkB_kRoACg",
        "colab_type": "code",
        "colab": {
          "base_uri": "https://localhost:8080/",
          "height": 36
        },
        "outputId": "9f9d52ed-5e8a-4a99-e6c6-cb2792c3c860"
      },
      "cell_type": "code",
      "source": [
        "list_data=[x**2 for x in range(5)]\n",
        "print(list_data)"
      ],
      "execution_count": 9,
      "outputs": [
        {
          "output_type": "stream",
          "text": [
            "[0, 1, 4, 9, 16]\n"
          ],
          "name": "stdout"
        }
      ]
    },
    {
      "metadata": {
        "id": "2l_T-h8doW0M",
        "colab_type": "code",
        "colab": {
          "base_uri": "https://localhost:8080/",
          "height": 73
        },
        "outputId": "bcd9abb8-a36b-408d-c373-9ce038ed9df5"
      },
      "cell_type": "code",
      "source": [
        "raw_data=[[1,10],[2,15],[3,30],[4,55]]\n",
        "all_data=[x for x in raw_data]\n",
        "x_data=[x[0] for x in raw_data]\n",
        "y_data=[x[1] for x in raw_data]\n",
        "\n",
        "print(\"all_data==\", all_data)\n",
        "print(\"x_data==\",x_data)\n",
        "print(\"y_data==\",y_data)"
      ],
      "execution_count": 10,
      "outputs": [
        {
          "output_type": "stream",
          "text": [
            "all_data== [[1, 10], [2, 15], [3, 30], [4, 55]]\n",
            "x_data== [1, 2, 3, 4]\n",
            "y_data== [10, 15, 30, 55]\n"
          ],
          "name": "stdout"
        }
      ]
    },
    {
      "metadata": {
        "id": "Y2n0ImM9pAJg",
        "colab_type": "code",
        "colab": {
          "base_uri": "https://localhost:8080/",
          "height": 36
        },
        "outputId": "905f74b8-0eec-4e37-e150-4c179caedd28"
      },
      "cell_type": "code",
      "source": [
        "even_number=[]\n",
        "for data in range(10):\n",
        "  if data % 2==0:\n",
        "    even_number.append(data)\n",
        "    \n",
        "print(even_number)"
      ],
      "execution_count": 12,
      "outputs": [
        {
          "output_type": "stream",
          "text": [
            "[0, 2, 4, 6, 8]\n"
          ],
          "name": "stdout"
        }
      ]
    },
    {
      "metadata": {
        "id": "Upp7WUTzp2pV",
        "colab_type": "text"
      },
      "cell_type": "markdown",
      "source": [
        "###반복문-while,break,continue"
      ]
    },
    {
      "metadata": {
        "id": "bRJfHHmOp_dx",
        "colab_type": "text"
      },
      "cell_type": "markdown",
      "source": [
        "###while condition"
      ]
    },
    {
      "metadata": {
        "id": "eirQbN6jpoOq",
        "colab_type": "code",
        "colab": {
          "base_uri": "https://localhost:8080/",
          "height": 129
        },
        "outputId": "12750556-499b-48cf-eb3a-d4ff514d8fdc"
      },
      "cell_type": "code",
      "source": [
        "data=5\n",
        "while data>=0:\n",
        "  print(\"data==\", data)\n",
        "  data-=1"
      ],
      "execution_count": 13,
      "outputs": [
        {
          "output_type": "stream",
          "text": [
            "data== 5\n",
            "data== 4\n",
            "data== 3\n",
            "data== 2\n",
            "data== 1\n",
            "data== 0\n"
          ],
          "name": "stdout"
        }
      ]
    },
    {
      "metadata": {
        "id": "LHAs_S-0qKY4",
        "colab_type": "code",
        "colab": {
          "base_uri": "https://localhost:8080/",
          "height": 129
        },
        "outputId": "36025d68-6dc8-4d95-b75b-c7b41db1f72b"
      },
      "cell_type": "code",
      "source": [
        "data=5\n",
        "while data>=0:\n",
        "  print(\"data ==\",data)\n",
        "  data-=1\n",
        "  \n",
        "  if data==2:\n",
        "    print(\"break here\")\n",
        "    break\n",
        "  else:\n",
        "    print(\"continue hrer\")\n",
        "    continue"
      ],
      "execution_count": 14,
      "outputs": [
        {
          "output_type": "stream",
          "text": [
            "data == 5\n",
            "continue hrer\n",
            "data == 4\n",
            "continue hrer\n",
            "data == 3\n",
            "break here\n"
          ],
          "name": "stdout"
        }
      ]
    }
  ]
}