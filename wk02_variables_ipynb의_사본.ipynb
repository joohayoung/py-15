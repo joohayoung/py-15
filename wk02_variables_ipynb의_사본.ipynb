{
  "nbformat": 4,
  "nbformat_minor": 0,
  "metadata": {
    "colab": {
      "name": "wk02_variables.ipynb의 사본",
      "version": "0.3.2",
      "provenance": [],
      "include_colab_link": true
    },
    "kernelspec": {
      "name": "python3",
      "display_name": "Python 3"
    }
  },
  "cells": [
    {
      "cell_type": "markdown",
      "metadata": {
        "id": "view-in-github",
        "colab_type": "text"
      },
      "source": [
        "[View in Colaboratory](https://colab.research.google.com/github/joohayoung/py-15/blob/master/wk02_variables_ipynb%EC%9D%98_%EC%82%AC%EB%B3%B8.ipynb)"
      ]
    },
    {
      "metadata": {
        "id": "86RZ2M_w7zwR",
        "colab_type": "toc"
      },
      "cell_type": "markdown",
      "source": [
        ">>[기본 연산](#scrollTo=8FxkHBQB96CP)\n",
        "\n",
        ">>[변수](#scrollTo=r01ki4us-A5A)\n",
        "\n",
        ">>>[동적변수(dynamic typing)](#scrollTo=ANDdKhxTvUAC)\n",
        "\n",
        ">>>[문자열](#scrollTo=Owi6Ii7v-p5v)\n",
        "\n",
        ">>>[여러 행 문자열(\"\"\"~~\"\"\")](#scrollTo=9yNG2MCt-vH5)\n",
        "\n",
        ">>>[여러행 수식](#scrollTo=OB8JaLvz-1I3)\n",
        "\n",
        ">>>[숫자와 문자열 처리](#scrollTo=10itGtMfuYiz)\n",
        "\n",
        ">>>>[변수 (TYPE)](#scrollTo=naStk5pIvKsi)\n",
        "\n",
        ">>>[문자열을 숫자로 변환: int(), float()](#scrollTo=vTFe_UI_wAsp)\n",
        "\n",
        ">>[예약어(keywords)](#scrollTo=U65UsZ0Wx2_J)\n",
        "\n",
        ">>>[예약어는 변수 이름으로 사용할수 없다.(오류발생)](#scrollTo=pO7TKk7P1dNW)\n",
        "\n",
        ">>[User input](#scrollTo=asqmeQn41i-t)\n",
        "\n",
        ">>[Code block &indentation](#scrollTo=B-UQlSiz2AF3)\n",
        "\n",
        ">>>[Indentation error](#scrollTo=6s5blK4n2sKE)\n",
        "\n",
        ">>[도전 코딩1.BMI = M/H**2, (M(kg), H(m))](#scrollTo=PjSbx0423cPt)\n",
        "\n",
        ">>>[BMI](#scrollTo=JrINmZ3D_QAm)\n",
        "\n",
        ">>[도전 코딩2. Fat burning](#scrollTo=1R554lXr50yS)\n",
        "\n"
      ]
    },
    {
      "metadata": {
        "id": "8FxkHBQB96CP",
        "colab_type": "text"
      },
      "cell_type": "markdown",
      "source": [
        "##기본 연산"
      ]
    },
    {
      "metadata": {
        "id": "2MEsCQ1nqu7X",
        "colab_type": "code",
        "colab": {
          "base_uri": "https://localhost:8080/",
          "height": 35
        },
        "outputId": "5c7e6d8b-954d-4d0e-af6c-119776b13dcc"
      },
      "cell_type": "code",
      "source": [
        "5-5+1+9"
      ],
      "execution_count": 0,
      "outputs": [
        {
          "output_type": "execute_result",
          "data": {
            "text/plain": [
              "10"
            ]
          },
          "metadata": {
            "tags": []
          },
          "execution_count": 1
        }
      ]
    },
    {
      "metadata": {
        "id": "gHY1RImnq13O",
        "colab_type": "code",
        "colab": {
          "base_uri": "https://localhost:8080/",
          "height": 35
        },
        "outputId": "d2ad7dcc-3001-4bab-98f9-3bddc31bfa6d"
      },
      "cell_type": "code",
      "source": [
        "5/5/3+9"
      ],
      "execution_count": 0,
      "outputs": [
        {
          "output_type": "execute_result",
          "data": {
            "text/plain": [
              "9.333333333333334"
            ]
          },
          "metadata": {
            "tags": []
          },
          "execution_count": 2
        }
      ]
    },
    {
      "metadata": {
        "id": "NjZ8lbaJrCpT",
        "colab_type": "code",
        "colab": {
          "base_uri": "https://localhost:8080/",
          "height": 35
        },
        "outputId": "ce4054a7-f6f2-495a-852f-0f1a2d9f586b"
      },
      "cell_type": "code",
      "source": [
        "5/(5/3)+12"
      ],
      "execution_count": 0,
      "outputs": [
        {
          "output_type": "execute_result",
          "data": {
            "text/plain": [
              "15.0"
            ]
          },
          "metadata": {
            "tags": []
          },
          "execution_count": 3
        }
      ]
    },
    {
      "metadata": {
        "id": "ztPohQ6VrOlG",
        "colab_type": "code",
        "colab": {
          "base_uri": "https://localhost:8080/",
          "height": 35
        },
        "outputId": "a5473f43-6239-4b53-8cb9-b51a546ba696"
      },
      "cell_type": "code",
      "source": [
        "5/(5/3)+9"
      ],
      "execution_count": 0,
      "outputs": [
        {
          "output_type": "execute_result",
          "data": {
            "text/plain": [
              "12.0"
            ]
          },
          "metadata": {
            "tags": []
          },
          "execution_count": 4
        }
      ]
    },
    {
      "metadata": {
        "id": "saCmlPotrYXh",
        "colab_type": "code",
        "colab": {
          "base_uri": "https://localhost:8080/",
          "height": 35
        },
        "outputId": "62513434-6856-4c87-a81f-41bd2b0d94f5"
      },
      "cell_type": "code",
      "source": [
        "5/5*1+9"
      ],
      "execution_count": 0,
      "outputs": [
        {
          "output_type": "execute_result",
          "data": {
            "text/plain": [
              "10.0"
            ]
          },
          "metadata": {
            "tags": []
          },
          "execution_count": 5
        }
      ]
    },
    {
      "metadata": {
        "id": "r-3tTLNMrcOA",
        "colab_type": "code",
        "colab": {
          "base_uri": "https://localhost:8080/",
          "height": 35
        },
        "outputId": "fcb73118-1447-4ac0-b816-62d342a2c273"
      },
      "cell_type": "code",
      "source": [
        "5/5*(1+9)"
      ],
      "execution_count": 0,
      "outputs": [
        {
          "output_type": "execute_result",
          "data": {
            "text/plain": [
              "10.0"
            ]
          },
          "metadata": {
            "tags": []
          },
          "execution_count": 6
        }
      ]
    },
    {
      "metadata": {
        "id": "r01ki4us-A5A",
        "colab_type": "text"
      },
      "cell_type": "markdown",
      "source": [
        "##변수"
      ]
    },
    {
      "metadata": {
        "id": "ANDdKhxTvUAC",
        "colab_type": "text"
      },
      "cell_type": "markdown",
      "source": [
        "###동적변수(dynamic typing)"
      ]
    },
    {
      "metadata": {
        "id": "Xdf4zWiPsSpD",
        "colab_type": "code",
        "colab": {}
      },
      "cell_type": "code",
      "source": [
        "some_var=100"
      ],
      "execution_count": 0,
      "outputs": []
    },
    {
      "metadata": {
        "id": "Owi6Ii7v-p5v",
        "colab_type": "text"
      },
      "cell_type": "markdown",
      "source": [
        "###문자열"
      ]
    },
    {
      "metadata": {
        "id": "y_cxFuHbsYyf",
        "colab_type": "code",
        "colab": {}
      },
      "cell_type": "code",
      "source": [
        "some_var=\"강남스타일\""
      ],
      "execution_count": 0,
      "outputs": []
    },
    {
      "metadata": {
        "id": "_Qbhex9wseG9",
        "colab_type": "code",
        "colab": {
          "base_uri": "https://localhost:8080/",
          "height": 35
        },
        "outputId": "4112673a-681b-4e68-f7a0-0561f6be1005"
      },
      "cell_type": "code",
      "source": [
        "some_var"
      ],
      "execution_count": 0,
      "outputs": [
        {
          "output_type": "execute_result",
          "data": {
            "text/plain": [
              "'강남스타일'"
            ]
          },
          "metadata": {
            "tags": []
          },
          "execution_count": 10
        }
      ]
    },
    {
      "metadata": {
        "id": "evYxTJ21svz0",
        "colab_type": "code",
        "colab": {}
      },
      "cell_type": "code",
      "source": [
        "psy=\"오빤 강남스타일\""
      ],
      "execution_count": 0,
      "outputs": []
    },
    {
      "metadata": {
        "id": "YoGKlFYms2J5",
        "colab_type": "code",
        "colab": {
          "base_uri": "https://localhost:8080/",
          "height": 35
        },
        "outputId": "9a44e59e-5019-41a2-ac69-777556dbfcb7"
      },
      "cell_type": "code",
      "source": [
        "psy=\"오빤 강남스타일 \"\n",
        "psy=psy+\"오, 강남스타일\"\n",
        "psy"
      ],
      "execution_count": 0,
      "outputs": [
        {
          "output_type": "execute_result",
          "data": {
            "text/plain": [
              "'오빤 강남스타일 오, 강남스타일'"
            ]
          },
          "metadata": {
            "tags": []
          },
          "execution_count": 13
        }
      ]
    },
    {
      "metadata": {
        "id": "3y995UYgtFdn",
        "colab_type": "code",
        "colab": {
          "base_uri": "https://localhost:8080/",
          "height": 35
        },
        "outputId": "ece41e25-598b-4a57-858a-22b3e5a53f5e"
      },
      "cell_type": "code",
      "source": [
        "psy2=\"아름다워 사랑스러워 \"\n",
        "psy2=\"그래 너, 그래 바로 너\"\n",
        "psy2"
      ],
      "execution_count": 0,
      "outputs": [
        {
          "output_type": "execute_result",
          "data": {
            "text/plain": [
              "'그래 너, 그래 바로 너'"
            ]
          },
          "metadata": {
            "tags": []
          },
          "execution_count": 14
        }
      ]
    },
    {
      "metadata": {
        "id": "9yNG2MCt-vH5",
        "colab_type": "text"
      },
      "cell_type": "markdown",
      "source": [
        "###여러 행 문자열(\"\"\"~~\"\"\")"
      ]
    },
    {
      "metadata": {
        "id": "Kma84dA2tbw4",
        "colab_type": "code",
        "colab": {
          "base_uri": "https://localhost:8080/",
          "height": 35
        },
        "outputId": "c6177ba8-9d2c-449d-8811-4634101822f4"
      },
      "cell_type": "code",
      "source": [
        "psy= \"\"\"낮에는 따사로운 인간적인 여자\n",
        "커피한잔의 여유를 아는 품격있는 여자\n",
        "밤이 오면 심장이 뜨거워지는 여자 그런 반전 있는 여자\"\"\"\n",
        "psy"
      ],
      "execution_count": 0,
      "outputs": [
        {
          "output_type": "execute_result",
          "data": {
            "text/plain": [
              "'낮에는 따사로운 인간적인 여자\\n커피한잔의 여유를 아는 품격있는 여자\\n밤이 오면 심장이 뜨거워지는 여자 그런 반전 있는 여자'"
            ]
          },
          "metadata": {
            "tags": []
          },
          "execution_count": 15
        }
      ]
    },
    {
      "metadata": {
        "id": "jFR4JGMtt40A",
        "colab_type": "code",
        "colab": {
          "base_uri": "https://localhost:8080/",
          "height": 71
        },
        "outputId": "9059c456-04dd-455b-e034-79afc02b6b9e"
      },
      "cell_type": "code",
      "source": [
        "print(psy)"
      ],
      "execution_count": 0,
      "outputs": [
        {
          "output_type": "stream",
          "text": [
            "낮에는 따사로운 인간적인 여자\n",
            "커피한잔의 여유를 아는 품격있는 여자\n",
            "밤이 오면 심장이 뜨거워지는 여자 그런 반전 있는 여자\n"
          ],
          "name": "stdout"
        }
      ]
    },
    {
      "metadata": {
        "id": "OB8JaLvz-1I3",
        "colab_type": "text"
      },
      "cell_type": "markdown",
      "source": [
        "###여러행 수식"
      ]
    },
    {
      "metadata": {
        "id": "UUABY3zvt8aJ",
        "colab_type": "code",
        "colab": {
          "base_uri": "https://localhost:8080/",
          "height": 35
        },
        "outputId": "15fec762-a869-4fa1-d890-47b88ff73956"
      },
      "cell_type": "code",
      "source": [
        "sum=10+20+\\\n",
        "30+40\n",
        "sum"
      ],
      "execution_count": 0,
      "outputs": [
        {
          "output_type": "execute_result",
          "data": {
            "text/plain": [
              "100"
            ]
          },
          "metadata": {
            "tags": []
          },
          "execution_count": 17
        }
      ]
    },
    {
      "metadata": {
        "id": "10itGtMfuYiz",
        "colab_type": "text"
      },
      "cell_type": "markdown",
      "source": [
        "###숫자와 문자열 처리"
      ]
    },
    {
      "metadata": {
        "id": "7ZH-0QIquaqn",
        "colab_type": "code",
        "colab": {
          "base_uri": "https://localhost:8080/",
          "height": 35
        },
        "outputId": "df1c6afe-8d6f-4dcf-9ed3-9588dc1da5ed"
      },
      "cell_type": "code",
      "source": [
        "day=3\n",
        "data=str(day)+\" 일\"\n",
        "print(data)"
      ],
      "execution_count": 0,
      "outputs": [
        {
          "output_type": "stream",
          "text": [
            "3 일\n"
          ],
          "name": "stdout"
        }
      ]
    },
    {
      "metadata": {
        "id": "naStk5pIvKsi",
        "colab_type": "text"
      },
      "cell_type": "markdown",
      "source": [
        "####변수 (TYPE)"
      ]
    },
    {
      "metadata": {
        "id": "aHEZ1DxZu3BN",
        "colab_type": "code",
        "colab": {
          "base_uri": "https://localhost:8080/",
          "height": 35
        },
        "outputId": "300a9f19-3d20-4985-e431-1a0b20e56014"
      },
      "cell_type": "code",
      "source": [
        "# 변수 type\n",
        "type(day)"
      ],
      "execution_count": 0,
      "outputs": [
        {
          "output_type": "execute_result",
          "data": {
            "text/plain": [
              "int"
            ]
          },
          "metadata": {
            "tags": []
          },
          "execution_count": 23
        }
      ]
    },
    {
      "metadata": {
        "id": "iPXEj9bGvoPa",
        "colab_type": "code",
        "colab": {
          "base_uri": "https://localhost:8080/",
          "height": 557
        },
        "outputId": "b180e3b4-584a-43c6-ac06-9ddd6e12f32d"
      },
      "cell_type": "code",
      "source": [
        "dir()"
      ],
      "execution_count": 1,
      "outputs": [
        {
          "output_type": "execute_result",
          "data": {
            "text/plain": [
              "['In',\n",
              " 'Out',\n",
              " '_',\n",
              " '_TensorFlowImportHook',\n",
              " '__',\n",
              " '___',\n",
              " '__builtin__',\n",
              " '__builtins__',\n",
              " '__doc__',\n",
              " '__loader__',\n",
              " '__name__',\n",
              " '__package__',\n",
              " '__spec__',\n",
              " '_dh',\n",
              " '_i',\n",
              " '_i1',\n",
              " '_ih',\n",
              " '_ii',\n",
              " '_iii',\n",
              " '_oh',\n",
              " '_sh',\n",
              " 'datetime',\n",
              " 'exit',\n",
              " 'get_ipython',\n",
              " 'imp',\n",
              " 'logging',\n",
              " 'os',\n",
              " 'quit',\n",
              " 'register_hook',\n",
              " 'sys']"
            ]
          },
          "metadata": {
            "tags": []
          },
          "execution_count": 1
        }
      ]
    },
    {
      "metadata": {
        "id": "vTFe_UI_wAsp",
        "colab_type": "text"
      },
      "cell_type": "markdown",
      "source": [
        "###문자열을 숫자로 변환: int(), float()"
      ]
    },
    {
      "metadata": {
        "id": "dW0-z6FKvrGV",
        "colab_type": "code",
        "colab": {}
      },
      "cell_type": "code",
      "source": [
        "num=int(\"31\")\n",
        "pi=float('3.141592')"
      ],
      "execution_count": 0,
      "outputs": []
    },
    {
      "metadata": {
        "id": "ob7tz1Q9wvg1",
        "colab_type": "code",
        "colab": {
          "base_uri": "https://localhost:8080/",
          "height": 35
        },
        "outputId": "62649adf-c83f-477a-9fbf-db3f0fe5e7c3"
      },
      "cell_type": "code",
      "source": [
        "#num.pi\n",
        "num"
      ],
      "execution_count": 0,
      "outputs": [
        {
          "output_type": "execute_result",
          "data": {
            "text/plain": [
              "31"
            ]
          },
          "metadata": {
            "tags": []
          },
          "execution_count": 31
        }
      ]
    },
    {
      "metadata": {
        "id": "2bThxbcxwzyo",
        "colab_type": "code",
        "colab": {
          "base_uri": "https://localhost:8080/",
          "height": 35
        },
        "outputId": "4a75a66b-6a7b-4136-edf6-550dd1e03288"
      },
      "cell_type": "code",
      "source": [
        "pi,type(pi)"
      ],
      "execution_count": 0,
      "outputs": [
        {
          "output_type": "execute_result",
          "data": {
            "text/plain": [
              "(3.141592, float)"
            ]
          },
          "metadata": {
            "tags": []
          },
          "execution_count": 32
        }
      ]
    },
    {
      "metadata": {
        "id": "940QE91mxDVc",
        "colab_type": "code",
        "colab": {
          "base_uri": "https://localhost:8080/",
          "height": 35
        },
        "outputId": "b1d9f6d0-2e77-4b80-b0a6-ad5eb1103e77"
      },
      "cell_type": "code",
      "source": [
        "print(\"num={},pi={}\".format(num,pi))"
      ],
      "execution_count": 0,
      "outputs": [
        {
          "output_type": "stream",
          "text": [
            "num=31,pi=3.141592\n"
          ],
          "name": "stdout"
        }
      ]
    },
    {
      "metadata": {
        "id": "U65UsZ0Wx2_J",
        "colab_type": "text"
      },
      "cell_type": "markdown",
      "source": [
        "##예약어(keywords)"
      ]
    },
    {
      "metadata": {
        "id": "NIvARxCUxM4h",
        "colab_type": "code",
        "colab": {
          "base_uri": "https://localhost:8080/",
          "height": 35
        },
        "outputId": "ffc5b191-3a79-4dc7-f609-3857e961e454"
      },
      "cell_type": "code",
      "source": [
        "import keyword\n",
        "\n",
        "#파이썬의 예약어 수\n",
        "\n",
        "len(keyword.kwlist)"
      ],
      "execution_count": 0,
      "outputs": [
        {
          "output_type": "execute_result",
          "data": {
            "text/plain": [
              "33"
            ]
          },
          "metadata": {
            "tags": []
          },
          "execution_count": 35
        }
      ]
    },
    {
      "metadata": {
        "id": "CCZFQaIn0z7D",
        "colab_type": "code",
        "colab": {
          "base_uri": "https://localhost:8080/",
          "height": 35
        },
        "outputId": "101b8f5c-5287-4ae9-c92d-ab3009266d55"
      },
      "cell_type": "code",
      "source": [
        "keyword"
      ],
      "execution_count": 0,
      "outputs": [
        {
          "output_type": "execute_result",
          "data": {
            "text/plain": [
              "<module 'keyword' from '/usr/lib/python3.6/keyword.py'>"
            ]
          },
          "metadata": {
            "tags": []
          },
          "execution_count": 37
        }
      ]
    },
    {
      "metadata": {
        "id": "8EYMvza103Mx",
        "colab_type": "code",
        "colab": {
          "base_uri": "https://localhost:8080/",
          "height": 611
        },
        "outputId": "d6da926a-c4db-4523-9420-3b2d7fffb9e3"
      },
      "cell_type": "code",
      "source": [
        "#예약어 목록\n",
        "keyword.kwlist"
      ],
      "execution_count": 0,
      "outputs": [
        {
          "output_type": "execute_result",
          "data": {
            "text/plain": [
              "['False',\n",
              " 'None',\n",
              " 'True',\n",
              " 'and',\n",
              " 'as',\n",
              " 'assert',\n",
              " 'break',\n",
              " 'class',\n",
              " 'continue',\n",
              " 'def',\n",
              " 'del',\n",
              " 'elif',\n",
              " 'else',\n",
              " 'except',\n",
              " 'finally',\n",
              " 'for',\n",
              " 'from',\n",
              " 'global',\n",
              " 'if',\n",
              " 'import',\n",
              " 'in',\n",
              " 'is',\n",
              " 'lambda',\n",
              " 'nonlocal',\n",
              " 'not',\n",
              " 'or',\n",
              " 'pass',\n",
              " 'raise',\n",
              " 'return',\n",
              " 'try',\n",
              " 'while',\n",
              " 'with',\n",
              " 'yield']"
            ]
          },
          "metadata": {
            "tags": []
          },
          "execution_count": 38
        }
      ]
    },
    {
      "metadata": {
        "id": "B2Np2rrh1AWI",
        "colab_type": "code",
        "colab": {
          "base_uri": "https://localhost:8080/",
          "height": 136
        },
        "outputId": "bf276b38-b623-4329-b294-6975df66911f"
      },
      "cell_type": "code",
      "source": [
        "as=\"inje\""
      ],
      "execution_count": 0,
      "outputs": [
        {
          "output_type": "error",
          "ename": "SyntaxError",
          "evalue": "ignored",
          "traceback": [
            "\u001b[0;36m  File \u001b[0;32m\"<ipython-input-39-27193235377c>\"\u001b[0;36m, line \u001b[0;32m1\u001b[0m\n\u001b[0;31m    as=\"inje\"\u001b[0m\n\u001b[0m     ^\u001b[0m\n\u001b[0;31mSyntaxError\u001b[0m\u001b[0;31m:\u001b[0m invalid syntax\n"
          ]
        }
      ]
    },
    {
      "metadata": {
        "id": "jbeYV_ik1Dcb",
        "colab_type": "code",
        "colab": {
          "base_uri": "https://localhost:8080/",
          "height": 35
        },
        "outputId": "c087a58d-44db-435e-b1c0-c2e193a309d4"
      },
      "cell_type": "code",
      "source": [
        "_as=\"inje\"\n",
        "_as"
      ],
      "execution_count": 0,
      "outputs": [
        {
          "output_type": "execute_result",
          "data": {
            "text/plain": [
              "'inje'"
            ]
          },
          "metadata": {
            "tags": []
          },
          "execution_count": 40
        }
      ]
    },
    {
      "metadata": {
        "id": "pO7TKk7P1dNW",
        "colab_type": "text"
      },
      "cell_type": "markdown",
      "source": [
        "###예약어는 변수 이름으로 사용할수 없다.(오류발생)"
      ]
    },
    {
      "metadata": {
        "id": "asqmeQn41i-t",
        "colab_type": "text"
      },
      "cell_type": "markdown",
      "source": [
        "##User input"
      ]
    },
    {
      "metadata": {
        "id": "7BRV3qgF1a65",
        "colab_type": "code",
        "colab": {
          "base_uri": "https://localhost:8080/",
          "height": 35
        },
        "outputId": "b3a9801e-87a0-4d26-8da2-d4bb836ad5f0"
      },
      "cell_type": "code",
      "source": [
        "name=input(\"이름을 쓰시오   \")"
      ],
      "execution_count": 0,
      "outputs": [
        {
          "output_type": "stream",
          "text": [
            "이름을 쓰시오   주하영\n"
          ],
          "name": "stdout"
        }
      ]
    },
    {
      "metadata": {
        "id": "XfC3ELBj1pUm",
        "colab_type": "code",
        "colab": {
          "base_uri": "https://localhost:8080/",
          "height": 35
        },
        "outputId": "aaf4ad7a-d0c5-422d-de2a-3c60b6d99009"
      },
      "cell_type": "code",
      "source": [
        "name"
      ],
      "execution_count": 0,
      "outputs": [
        {
          "output_type": "execute_result",
          "data": {
            "text/plain": [
              "'주하영'"
            ]
          },
          "metadata": {
            "tags": []
          },
          "execution_count": 45
        }
      ]
    },
    {
      "metadata": {
        "id": "B-UQlSiz2AF3",
        "colab_type": "text"
      },
      "cell_type": "markdown",
      "source": [
        "##Code block &indentation"
      ]
    },
    {
      "metadata": {
        "id": "qvEMnGDw10q3",
        "colab_type": "code",
        "colab": {
          "base_uri": "https://localhost:8080/",
          "height": 71
        },
        "outputId": "4679e98f-83d8-4060-8c37-7e4db01be172"
      },
      "cell_type": "code",
      "source": [
        "if(10>3):\n",
        "  print('inside if block')\n",
        "  print('still inside if block')\n",
        "  \n",
        "print('outside if block')"
      ],
      "execution_count": 0,
      "outputs": [
        {
          "output_type": "stream",
          "text": [
            "inside if block\n",
            "still inside if block\n",
            "outside if block\n"
          ],
          "name": "stdout"
        }
      ]
    },
    {
      "metadata": {
        "id": "H_3726xe199f",
        "colab_type": "code",
        "colab": {
          "base_uri": "https://localhost:8080/",
          "height": 53
        },
        "outputId": "02f81188-7cd1-48b2-9f38-eea4bf71f3ac"
      },
      "cell_type": "code",
      "source": [
        "if(10<3):\n",
        "  print('inside if block')\n",
        "print('still inside if block')\n",
        "  \n",
        "print('outside if block')"
      ],
      "execution_count": 0,
      "outputs": [
        {
          "output_type": "stream",
          "text": [
            "still inside if block\n",
            "outside if block\n"
          ],
          "name": "stdout"
        }
      ]
    },
    {
      "metadata": {
        "id": "6s5blK4n2sKE",
        "colab_type": "text"
      },
      "cell_type": "markdown",
      "source": [
        "###Indentation error"
      ]
    },
    {
      "metadata": {
        "id": "Yw1ModdD2pzi",
        "colab_type": "code",
        "colab": {}
      },
      "cell_type": "code",
      "source": [
        "if(10>3):\n",
        "  print('inside if block')\n",
        "   print('still inside if block')\n",
        "  \n",
        "print('outside if block')"
      ],
      "execution_count": 0,
      "outputs": []
    },
    {
      "metadata": {
        "id": "PjSbx0423cPt",
        "colab_type": "text"
      },
      "cell_type": "markdown",
      "source": [
        "##도전 코딩1.BMI = M/H**2, (M(kg), H(m))"
      ]
    },
    {
      "metadata": {
        "id": "6IXlcsl63bO0",
        "colab_type": "code",
        "colab": {
          "base_uri": "https://localhost:8080/",
          "height": 71
        },
        "outputId": "5db2babb-0969-43f9-cd0e-ed718695d0e9"
      },
      "cell_type": "code",
      "source": [
        "height=float(input(\"Your height in meters:\"))\n",
        "weight=int(input(\"Your weight in meters:\"))\n",
        "bmi=round(weight/(height*height),1)\n",
        "bmi"
      ],
      "execution_count": 0,
      "outputs": [
        {
          "output_type": "stream",
          "text": [
            "Your height in meters:1.6\n",
            "Your weight in meters:60\n"
          ],
          "name": "stdout"
        },
        {
          "output_type": "execute_result",
          "data": {
            "text/plain": [
              "23.4"
            ]
          },
          "metadata": {
            "tags": []
          },
          "execution_count": 62
        }
      ]
    },
    {
      "metadata": {
        "id": "JrINmZ3D_QAm",
        "colab_type": "text"
      },
      "cell_type": "markdown",
      "source": [
        "###BMI"
      ]
    },
    {
      "metadata": {
        "id": "1R554lXr50yS",
        "colab_type": "text"
      },
      "cell_type": "markdown",
      "source": [
        "##도전 코딩2. Fat burning"
      ]
    },
    {
      "metadata": {
        "id": "mXh_R9ao4M1o",
        "colab_type": "code",
        "colab": {}
      },
      "cell_type": "code",
      "source": [
        "#조깅에서 1kg 지방을 태우는 데 몇 시간 걸리는지를 계산\n",
        "cal_per_1kg_fat = 7200 # 지방 1kg 연소에 필요한 열량\n",
        "cal_per_1min_jog = 7.76 # 조깅 1 분에 의한 소비 칼로리"
      ],
      "execution_count": 0,
      "outputs": []
    },
    {
      "metadata": {
        "id": "I90D7LB36Eex",
        "colab_type": "code",
        "colab": {
          "base_uri": "https://localhost:8080/",
          "height": 53
        },
        "outputId": "857d8c2d-29de-4bfc-cdca-561b4818e471"
      },
      "cell_type": "code",
      "source": [
        "#조깅에서 1kg 체중 감소하는데 몇 분이 필요할까?\n",
        "min_to_lose1kg = cal_per_1kg_fat/cal_per_1min_jog\n",
        "hours_to_lose1kg = min_to_lose1kg/60 # 분을 시간으로 환산\n",
        "print(round(hours_to_lose1kg,1))\n",
        "print(str(round(hours_to_lose1kg,1))+\" 시간\")"
      ],
      "execution_count": 0,
      "outputs": [
        {
          "output_type": "stream",
          "text": [
            "15.5\n",
            "15.5 시간\n"
          ],
          "name": "stdout"
        }
      ]
    },
    {
      "metadata": {
        "id": "7SPcP2Vm6gZG",
        "colab_type": "code",
        "colab": {
          "base_uri": "https://localhost:8080/",
          "height": 53
        },
        "outputId": "b2374e5d-a2c4-4fdd-9d81-6eaf5f8f5c6e"
      },
      "cell_type": "code",
      "source": [
        "#조깅에서 1kg 체중 감소하는데 몇 분이 필요할까?\n",
        "min_to_lose1kg = cal_per_1kg_fat/cal_per_1min_jog\n",
        "hours_to_lose1kg = min_to_lose1kg/60 # 분을 시간으로 환산\n",
        "print(round(hours_to_lose1kg,1))\n",
        "print(\"{} 시간\".format(round(hours_to_lose1kg,1)))"
      ],
      "execution_count": 0,
      "outputs": [
        {
          "output_type": "stream",
          "text": [
            "15.5\n",
            "15.5 시간\n"
          ],
          "name": "stdout"
        }
      ]
    },
    {
      "metadata": {
        "id": "E0QQWL5o7LUu",
        "colab_type": "code",
        "colab": {}
      },
      "cell_type": "code",
      "source": [
        ""
      ],
      "execution_count": 0,
      "outputs": []
    }
  ]
}