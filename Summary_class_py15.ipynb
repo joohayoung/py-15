{
  "nbformat": 4,
  "nbformat_minor": 0,
  "metadata": {
    "colab": {
      "name": "Summary_class_py15.ipynb",
      "version": "0.3.2",
      "provenance": [],
      "include_colab_link": true
    },
    "kernelspec": {
      "name": "python3",
      "display_name": "Python 3"
    }
  },
  "cells": [
    {
      "cell_type": "markdown",
      "metadata": {
        "id": "view-in-github",
        "colab_type": "text"
      },
      "source": [
        "[View in Colaboratory](https://colab.research.google.com/github/joohayoung/py-15/blob/master/Summary_class_py15.ipynb)"
      ]
    },
    {
      "metadata": {
        "id": "WrXOvxHLFomh",
        "colab_type": "text"
      },
      "cell_type": "markdown",
      "source": [
        "###클래스 - class"
      ]
    },
    {
      "metadata": {
        "id": "qgopQIgGFRxP",
        "colab_type": "code",
        "colab": {}
      },
      "cell_type": "code",
      "source": [
        "class Person:\n",
        "  def __init__(self,name):           #생성자- 인스턴스가 만들어 질때 한번만 호출\n",
        "    self.name=name\n",
        "    print(self.name+\" is initialized\")\n",
        "    \n",
        "  def work(self,company):           #메서드- 자신의 인스턴스를 나타내는 self기술\n",
        "    print(self.name+\" is working in\" + company)\n",
        "    \n",
        "  def sleep(self):\n",
        "    print(self.name+ \" is sleeping\")\n"
      ],
      "execution_count": 0,
      "outputs": []
    },
    {
      "metadata": {
        "id": "5NnD8U_ZGZId",
        "colab_type": "code",
        "colab": {
          "base_uri": "https://localhost:8080/",
          "height": 36
        },
        "outputId": "00d96112-7b35-463a-d9d7-50b259b32dea"
      },
      "cell_type": "code",
      "source": [
        "#Person instance 2개 생성\n",
        "obj=Person(\"PARK\")"
      ],
      "execution_count": 3,
      "outputs": [
        {
          "output_type": "stream",
          "text": [
            "PARK is initialized\n"
          ],
          "name": "stdout"
        }
      ]
    },
    {
      "metadata": {
        "id": "OZ9u4ETnGhVA",
        "colab_type": "code",
        "colab": {
          "base_uri": "https://localhost:8080/",
          "height": 55
        },
        "outputId": "9b87536b-bab5-4613-da56-7fb4cb32833a"
      },
      "cell_type": "code",
      "source": [
        "#method call\n",
        "obj.work(\"ABCDEF\")\n",
        "obj.sleep()"
      ],
      "execution_count": 4,
      "outputs": [
        {
          "output_type": "stream",
          "text": [
            "PARK is working inABCDEF\n",
            "PARK is sleeping\n"
          ],
          "name": "stdout"
        }
      ]
    },
    {
      "metadata": {
        "id": "aQKcN_0sGnTh",
        "colab_type": "code",
        "colab": {
          "base_uri": "https://localhost:8080/",
          "height": 36
        },
        "outputId": "74885c54-9bbc-4621-fe0b-897dd4955e14"
      },
      "cell_type": "code",
      "source": [
        "#속성에 직접 접근, 기본적으로 파이썬에서는 모두 public\n",
        "print(\"current person object is\", obj.name)"
      ],
      "execution_count": 5,
      "outputs": [
        {
          "output_type": "stream",
          "text": [
            "current person object is PARK\n"
          ],
          "name": "stdout"
        }
      ]
    },
    {
      "metadata": {
        "id": "ASaXn0EUGs7Q",
        "colab_type": "code",
        "colab": {}
      },
      "cell_type": "code",
      "source": [
        "class Person:\n",
        "  count =0              #class variable(클래스 변수)- 인스턴스가 사용하는 공통변수\n",
        "  \n",
        "  def __init__(self, name):\n",
        "    self.name=name\n",
        "    Person.count+=1                 #class 변수 count 증가\n",
        "    print(self.name + \"is initialized\")\n",
        "    \n",
        "  def work(self,company):\n",
        "    print(self.name + \"is working in\"+ company)\n",
        "    \n",
        "  def sleep(self):\n",
        "    print(self.name+ \"is sleeping\")\n",
        "    \n",
        "  @classmethod         #@classmethod는 해당 메서드가 클래스 메서드임을 표시\n",
        "  def getCount(cls):   #class method\n",
        "    return cls.count\n",
        "  "
      ],
      "execution_count": 0,
      "outputs": []
    },
    {
      "metadata": {
        "id": "qPz2xcxKH5bP",
        "colab_type": "code",
        "colab": {
          "base_uri": "https://localhost:8080/",
          "height": 55
        },
        "outputId": "e44a4a10-8961-4ed4-9876-0b49311d16b6"
      },
      "cell_type": "code",
      "source": [
        "#Person instance 2개 생성\n",
        "obj1=Person(\"PARK\")\n",
        "obj2=Person(\"KIM\")\n"
      ],
      "execution_count": 7,
      "outputs": [
        {
          "output_type": "stream",
          "text": [
            "PARKis initialized\n",
            "KIMis initialized\n"
          ],
          "name": "stdout"
        }
      ]
    },
    {
      "metadata": {
        "id": "KI2c3lXaINU1",
        "colab_type": "code",
        "colab": {
          "base_uri": "https://localhost:8080/",
          "height": 36
        },
        "outputId": "e1b29a1b-3858-4985-9b56-444621ddb56f"
      },
      "cell_type": "code",
      "source": [
        "#method call\n",
        "obj1.work(\"ABCDEF\")"
      ],
      "execution_count": 8,
      "outputs": [
        {
          "output_type": "stream",
          "text": [
            "PARKis working inABCDEF\n"
          ],
          "name": "stdout"
        }
      ]
    },
    {
      "metadata": {
        "id": "Q0h43b6AINou",
        "colab_type": "code",
        "colab": {
          "base_uri": "https://localhost:8080/",
          "height": 36
        },
        "outputId": "3dab872f-d0a8-471e-fa48-1ff4fe1d4205"
      },
      "cell_type": "code",
      "source": [
        "obj2.sleep()"
      ],
      "execution_count": 9,
      "outputs": [
        {
          "output_type": "stream",
          "text": [
            "KIMis sleeping\n"
          ],
          "name": "stdout"
        }
      ]
    },
    {
      "metadata": {
        "id": "91DfMMN7IYOn",
        "colab_type": "code",
        "colab": {
          "base_uri": "https://localhost:8080/",
          "height": 36
        },
        "outputId": "37b98bfb-c4c9-48dd-9276-ec0e04f24cfc"
      },
      "cell_type": "code",
      "source": [
        "#속성에 직접 접근,기본적으로 파이썬에는 노두 public\n",
        "print(\" current person object is\" + obj1.name, \", \", obj2.name)"
      ],
      "execution_count": 10,
      "outputs": [
        {
          "output_type": "stream",
          "text": [
            " current person object isPARK ,  KIM\n"
          ],
          "name": "stdout"
        }
      ]
    },
    {
      "metadata": {
        "id": "myIxj9XaInk-",
        "colab_type": "code",
        "colab": {
          "base_uri": "https://localhost:8080/",
          "height": 36
        },
        "outputId": "8e692695-6735-4f2d-eea0-ccbf3bdb31ac"
      },
      "cell_type": "code",
      "source": [
        "#class method호출\n",
        "print(\"Person count ==\", Person.getCount())"
      ],
      "execution_count": 11,
      "outputs": [
        {
          "output_type": "stream",
          "text": [
            "Person count == 2\n"
          ],
          "name": "stdout"
        }
      ]
    },
    {
      "metadata": {
        "id": "MFOizwoHIxpG",
        "colab_type": "code",
        "colab": {
          "base_uri": "https://localhost:8080/",
          "height": 36
        },
        "outputId": "d9691d53-580a-4fca-943d-9fc02db5ad33"
      },
      "cell_type": "code",
      "source": [
        "#class variable direct access\n",
        "print(Person.count)"
      ],
      "execution_count": 12,
      "outputs": [
        {
          "output_type": "stream",
          "text": [
            "2\n"
          ],
          "name": "stdout"
        }
      ]
    },
    {
      "metadata": {
        "id": "6RejTzKXI4yI",
        "colab_type": "code",
        "colab": {}
      },
      "cell_type": "code",
      "source": [
        "class PrivateMemberTest:            #기본적으로 멤버 public\n",
        "  def __init__(self, name1, name2):\n",
        "    self.name1=name1\n",
        "    self.__name2=name2  #private member variable -\n",
        "    print(\"initialized with \"+ name1 + \", \"+name2)\n",
        "    \n",
        "  def getNames(self):\n",
        "      self.__printNames()\n",
        "      return self.name1, self.__name2\n",
        "    \n",
        "  def __printNames(self):\n",
        "    print(self.name1, self.__name2)\n",
        "    "
      ],
      "execution_count": 0,
      "outputs": []
    },
    {
      "metadata": {
        "id": "A4Tsg_HiJwE-",
        "colab_type": "code",
        "colab": {
          "base_uri": "https://localhost:8080/",
          "height": 307
        },
        "outputId": "0575b209-09d3-41fb-8c8c-229f506de4a4"
      },
      "cell_type": "code",
      "source": [
        "# 인스턴스 생성\n",
        "obj=PrivateMemberTest(\"PARK\", \"KIM\")\n",
        "\n",
        "print(obj.name1)\n",
        "print(obj.getNames())\n",
        "print(obj.__printNames())  #error 발생\n",
        "print(obj.__name2)         #error 발생"
      ],
      "execution_count": 14,
      "outputs": [
        {
          "output_type": "stream",
          "text": [
            "initialized with PARK, KIM\n",
            "PARK\n",
            "PARK KIM\n",
            "('PARK', 'KIM')\n"
          ],
          "name": "stdout"
        },
        {
          "output_type": "error",
          "ename": "AttributeError",
          "evalue": "ignored",
          "traceback": [
            "\u001b[0;31m---------------------------------------------------------------------------\u001b[0m",
            "\u001b[0;31mAttributeError\u001b[0m                            Traceback (most recent call last)",
            "\u001b[0;32m<ipython-input-14-538c380aa202>\u001b[0m in \u001b[0;36m<module>\u001b[0;34m()\u001b[0m\n\u001b[1;32m      3\u001b[0m \u001b[0mprint\u001b[0m\u001b[0;34m(\u001b[0m\u001b[0mobj\u001b[0m\u001b[0;34m.\u001b[0m\u001b[0mname1\u001b[0m\u001b[0;34m)\u001b[0m\u001b[0;34m\u001b[0m\u001b[0m\n\u001b[1;32m      4\u001b[0m \u001b[0mprint\u001b[0m\u001b[0;34m(\u001b[0m\u001b[0mobj\u001b[0m\u001b[0;34m.\u001b[0m\u001b[0mgetNames\u001b[0m\u001b[0;34m(\u001b[0m\u001b[0;34m)\u001b[0m\u001b[0;34m)\u001b[0m\u001b[0;34m\u001b[0m\u001b[0m\n\u001b[0;32m----> 5\u001b[0;31m \u001b[0mprint\u001b[0m\u001b[0;34m(\u001b[0m\u001b[0mobj\u001b[0m\u001b[0;34m.\u001b[0m\u001b[0m__printNames\u001b[0m\u001b[0;34m(\u001b[0m\u001b[0;34m)\u001b[0m\u001b[0;34m)\u001b[0m  \u001b[0;31m#error 발생\u001b[0m\u001b[0;34m\u001b[0m\u001b[0m\n\u001b[0m\u001b[1;32m      6\u001b[0m \u001b[0mprint\u001b[0m\u001b[0;34m(\u001b[0m\u001b[0mobj\u001b[0m\u001b[0;34m.\u001b[0m\u001b[0m__name2\u001b[0m\u001b[0;34m)\u001b[0m         \u001b[0;31m#error 발생\u001b[0m\u001b[0;34m\u001b[0m\u001b[0m\n",
            "\u001b[0;31mAttributeError\u001b[0m: 'PrivateMemberTest' object has no attribute '__printNames'"
          ]
        }
      ]
    },
    {
      "metadata": {
        "id": "xKV01uGgKK3S",
        "colab_type": "code",
        "colab": {}
      },
      "cell_type": "code",
      "source": [
        "def print_name(name):\n",
        "  print(\"[def] \", name)\n",
        "  \n",
        "class SameTest:\n",
        "  def __init__(self):\n",
        "    pass                         #아무것도 않하기 때문에\n",
        "   \n",
        "  def print_name(self,name):     #외부 함수와 동일한 이름으로 method 정의\n",
        "    print(\"[SameTest] \",name)\n",
        "    \n",
        "  def call_test(self):\n",
        "    print_name(\"KIM\")             #외부 함수 호출\n",
        "    \n",
        "    self.print_name(\"KIM\")        #클래스 내부 method 호출"
      ],
      "execution_count": 0,
      "outputs": []
    },
    {
      "metadata": {
        "id": "_5i03o_xLH9x",
        "colab_type": "code",
        "colab": {}
      },
      "cell_type": "code",
      "source": [
        "#oreate SameTest object\n",
        "obj=SameTest()"
      ],
      "execution_count": 0,
      "outputs": []
    },
    {
      "metadata": {
        "id": "4RKw4jsSLPBK",
        "colab_type": "code",
        "colab": {
          "base_uri": "https://localhost:8080/",
          "height": 36
        },
        "outputId": "c1be4f22-53b5-4b2f-a0a4-cad76f3986cf"
      },
      "cell_type": "code",
      "source": [
        "#call function print_name\n",
        "print_name(\"LEE\")"
      ],
      "execution_count": 18,
      "outputs": [
        {
          "output_type": "stream",
          "text": [
            "[def]  LEE\n"
          ],
          "name": "stdout"
        }
      ]
    },
    {
      "metadata": {
        "id": "OsaA2pTfLbf1",
        "colab_type": "code",
        "colab": {
          "base_uri": "https://localhost:8080/",
          "height": 36
        },
        "outputId": "cec3d320-25be-49e6-f8db-4a6ee2eeeb16"
      },
      "cell_type": "code",
      "source": [
        "#call method print_name\n",
        "obj.print_name(\"LEE\")"
      ],
      "execution_count": 19,
      "outputs": [
        {
          "output_type": "stream",
          "text": [
            "[SameTest]  LEE\n"
          ],
          "name": "stdout"
        }
      ]
    },
    {
      "metadata": {
        "id": "dkSTBLrELjH8",
        "colab_type": "code",
        "colab": {
          "base_uri": "https://localhost:8080/",
          "height": 55
        },
        "outputId": "7b63c55d-4659-46dc-af8c-bcaf1a919750"
      },
      "cell_type": "code",
      "source": [
        "#call method call_test\n",
        "obj.call_test()"
      ],
      "execution_count": 20,
      "outputs": [
        {
          "output_type": "stream",
          "text": [
            "[def]  KIM\n",
            "[SameTest]  KIM\n"
          ],
          "name": "stdout"
        }
      ]
    },
    {
      "metadata": {
        "id": "LFpuZUG7Lpy-",
        "colab_type": "text"
      },
      "cell_type": "markdown",
      "source": [
        "### 예외처리=exception"
      ]
    },
    {
      "metadata": {
        "id": "YK0K6QASLneR",
        "colab_type": "code",
        "colab": {}
      },
      "cell_type": "code",
      "source": [
        "def calc(list_data):\n",
        "  sum=0\n",
        "  try:\n",
        "    sum=list_data[0]+list_data[1]+list_data[2]\n",
        "    \n",
        "    if sum<0:\n",
        "      raise Exception(\"Sum is minus\")  #exception 무시-pass\n",
        "                                       #개발자가 에러를 던기기위해서는 raise사용\n",
        "  except IndexError as err:\n",
        "    print(str(err))\n",
        "  except Exception as err:\n",
        "    print(str(err))\n",
        "    \n",
        "  finally:             #항상 마지막에 실행\n",
        "    print(sum)"
      ],
      "execution_count": 0,
      "outputs": []
    },
    {
      "metadata": {
        "id": "iYh5s4KMMVxo",
        "colab_type": "code",
        "colab": {
          "base_uri": "https://localhost:8080/",
          "height": 55
        },
        "outputId": "4146a2b1-fa76-4f55-f4fc-35ec546211f5"
      },
      "cell_type": "code",
      "source": [
        "calc([1,2]) #index error 발생"
      ],
      "execution_count": 24,
      "outputs": [
        {
          "output_type": "stream",
          "text": [
            "list index out of range\n",
            "0\n"
          ],
          "name": "stdout"
        }
      ]
    },
    {
      "metadata": {
        "id": "JYR8P1MkMl4d",
        "colab_type": "code",
        "colab": {
          "base_uri": "https://localhost:8080/",
          "height": 55
        },
        "outputId": "6c331286-41eb-4555-a0dc-c20b2b78b41f"
      },
      "cell_type": "code",
      "source": [
        "calc([1,2,-100]) #인위적인 exception 발생"
      ],
      "execution_count": 25,
      "outputs": [
        {
          "output_type": "stream",
          "text": [
            "Sum is minus\n",
            "-97\n"
          ],
          "name": "stdout"
        }
      ]
    },
    {
      "metadata": {
        "id": "jRbjQeyvMvLV",
        "colab_type": "text"
      },
      "cell_type": "markdown",
      "source": [
        "### with 구문"
      ]
    },
    {
      "metadata": {
        "id": "bLHObTo-PpXI",
        "colab_type": "text"
      },
      "cell_type": "markdown",
      "source": [
        "파일(file) 또는 세션(session)을 사용하는 순서\n",
        "open()=>read() 또는 write()=>close()"
      ]
    },
    {
      "metadata": {
        "id": "rH4UaZZmQXA3",
        "colab_type": "text"
      },
      "cell_type": "markdown",
      "source": [
        "파이썬에서는 with 구문을 사용하면 명시적으로 리소스 close()를 해주지 않아도 자동으로 close()해주는 기능 존재\n",
        "with블록을 벗어나는 순간 파일이나 세션 등의 리소스를 자동으로 close시킴"
      ]
    },
    {
      "metadata": {
        "id": "9XQKxJceMrhl",
        "colab_type": "code",
        "colab": {}
      },
      "cell_type": "code",
      "source": [
        "#일반적인 방법 \n",
        "\n",
        "f=open(\"./file_test\",\"w\")\n",
        "f.write(\"Hello, Python !!!\")\n",
        "f.close()"
      ],
      "execution_count": 0,
      "outputs": []
    },
    {
      "metadata": {
        "id": "X114jSUmM99g",
        "colab_type": "code",
        "colab": {}
      },
      "cell_type": "code",
      "source": [
        "#with 구문을 사용한 방법\n",
        "#with 블록을 벗어나는 순간 파일 객체 f가 자동으로 close 됨.\n",
        "with open(\"./file_test\", \"w\") as f:\n",
        "  f.write(\"Hello, Fython !!!\")"
      ],
      "execution_count": 0,
      "outputs": []
    },
    {
      "metadata": {
        "id": "HwXl8gAUNTIj",
        "colab_type": "code",
        "colab": {}
      },
      "cell_type": "code",
      "source": [
        ""
      ],
      "execution_count": 0,
      "outputs": []
    }
  ]
}