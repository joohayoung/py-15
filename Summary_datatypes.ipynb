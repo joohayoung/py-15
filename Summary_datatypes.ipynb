{
  "nbformat": 4,
  "nbformat_minor": 0,
  "metadata": {
    "colab": {
      "name": "Summary_datatypes.ipynb",
      "version": "0.3.2",
      "provenance": [],
      "collapsed_sections": [],
      "include_colab_link": true
    },
    "kernelspec": {
      "name": "python3",
      "display_name": "Python 3"
    }
  },
  "cells": [
    {
      "cell_type": "markdown",
      "metadata": {
        "id": "view-in-github",
        "colab_type": "text"
      },
      "source": [
        "[View in Colaboratory](https://colab.research.google.com/github/joohayoung/py-15/blob/master/Summary_datatypes.ipynb)"
      ]
    },
    {
      "metadata": {
        "id": "INPTFzKm5zSH",
        "colab_type": "code",
        "colab": {}
      },
      "cell_type": "code",
      "source": [
        ""
      ],
      "execution_count": 0,
      "outputs": []
    },
    {
      "metadata": {
        "id": "luSkmFzN6BJc",
        "colab_type": "text"
      },
      "cell_type": "markdown",
      "source": [
        "##summary of datatypes in Python\n",
        "\n",
        "- list\n",
        "- dictionary\n",
        "- tuple\n",
        "- set\n",
        "- string"
      ]
    },
    {
      "metadata": {
        "id": "gCObtm1t6b9U",
        "colab_type": "text"
      },
      "cell_type": "markdown",
      "source": [
        "###  리스트 생성 및 항목 추가"
      ]
    },
    {
      "metadata": {
        "id": "3u3ySQmf6RoA",
        "colab_type": "code",
        "colab": {}
      },
      "cell_type": "code",
      "source": [
        "a=[10,20,30,40,50]"
      ],
      "execution_count": 0,
      "outputs": []
    },
    {
      "metadata": {
        "id": "eE0zOUy_7dZJ",
        "colab_type": "code",
        "colab": {
          "base_uri": "https://localhost:8080/",
          "height": 54
        },
        "outputId": "cd499705-8e45-40c1-99de-5215a1f64321"
      },
      "cell_type": "code",
      "source": [
        "#0.1.2... 인덱스는 리스트 처음부터 시작\n",
        "#-1,-2... 인덱스는 리스트 마지막부터 시작\n",
        "print(\"a[0] ==\", a[0],\"a[2] ==\", a[2],\"a[4] ==\", a[4])\n",
        "print(\"a[-1] ==\", a[-1],\"a[-2] ==\", a[-2],\"a[-5] ==\", a[-5])"
      ],
      "execution_count": 2,
      "outputs": [
        {
          "output_type": "stream",
          "text": [
            "a[0] == 10 a[2] == 30 a[4] == 50\n",
            "a[-1] == 50 a[-2] == 40 a[-5] == 10\n"
          ],
          "name": "stdout"
        }
      ]
    },
    {
      "metadata": {
        "id": "BmPubyfC7-PW",
        "colab_type": "code",
        "colab": {}
      },
      "cell_type": "code",
      "source": [
        "b=[10,20,\"Hello\",[True,3.14]]"
      ],
      "execution_count": 0,
      "outputs": []
    },
    {
      "metadata": {
        "id": "dR1-3mwR8I7n",
        "colab_type": "code",
        "colab": {
          "base_uri": "https://localhost:8080/",
          "height": 54
        },
        "outputId": "89ca0a8e-8f8f-4b4c-9b5b-9ea228677a1f"
      },
      "cell_type": "code",
      "source": [
        "#b[3] 또는 b[-1] 값은 [True, 3.14] 리스트 전체임\n",
        "print(\"b[0] ==\", b[0],\"b[2] ==\", b[2],\"b[3] ==\", b[3])\n",
        "print(\"b[-1] ==\", b[-1],\"b[-2] ==\", b[-2],\"b[-4] ==\", b[-4])"
      ],
      "execution_count": 4,
      "outputs": [
        {
          "output_type": "stream",
          "text": [
            "b[0] == 10 b[2] == Hello b[3] == [True, 3.14]\n",
            "b[-1] == [True, 3.14] b[-2] == Hello b[-4] == 10\n"
          ],
          "name": "stdout"
        }
      ]
    },
    {
      "metadata": {
        "id": "qrgLPeyO8p8a",
        "colab_type": "code",
        "colab": {
          "base_uri": "https://localhost:8080/",
          "height": 54
        },
        "outputId": "22d9c641-35fe-436a-f2ba-8f958bbc742c"
      },
      "cell_type": "code",
      "source": [
        "print(\"b[3][0] ==\", b[3][0],\"b[3][1] ==\", b[3][1])\n",
        "print(\"b[-1][-1] ==\", b[-1][-1],\"b[-1][-2] ==\", b[-1][-2])"
      ],
      "execution_count": 5,
      "outputs": [
        {
          "output_type": "stream",
          "text": [
            "b[3][0] == True b[3][1] == 3.14\n",
            "b[-1][-1] == 3.14 b[-1][-2] == True\n"
          ],
          "name": "stdout"
        }
      ]
    },
    {
      "metadata": {
        "id": "gNq-pX0C93j8",
        "colab_type": "code",
        "colab": {
          "base_uri": "https://localhost:8080/",
          "height": 35
        },
        "outputId": "4fa95082-ef3c-4ca5-d68b-0e19fd61d8b2"
      },
      "cell_type": "code",
      "source": [
        "b[-2][-2]"
      ],
      "execution_count": 6,
      "outputs": [
        {
          "output_type": "execute_result",
          "data": {
            "text/plain": [
              "'l'"
            ]
          },
          "metadata": {
            "tags": []
          },
          "execution_count": 6
        }
      ]
    },
    {
      "metadata": {
        "id": "G-fV8R0z9kjE",
        "colab_type": "text"
      },
      "cell_type": "markdown",
      "source": [
        "###리스트의 부분 선택(슬라이싱)"
      ]
    },
    {
      "metadata": {
        "id": "mVBIsvKU889A",
        "colab_type": "code",
        "colab": {
          "base_uri": "https://localhost:8080/",
          "height": 72
        },
        "outputId": "0beb6759-f248-43ae-979d-6c4f6fd8563d"
      },
      "cell_type": "code",
      "source": [
        "#a[0:2]=> 인덱스 0부터 2~1까지 , a[1:]=>인덱스 1부터 끝까지\n",
        "#a[:3]=>인덱스 처음부터 3~1까지, a[:-2]=>인덱스 처음부터 -2~1까지\n",
        "#a[:]=>인덱스 처음부터 끝까지\n",
        "print(\"a[0:2]==\",a[0:2],\", a[1:]==\",a[1:])\n",
        "print(\"a[:3]==\",a[:3],\", a[:-2]==\",a[:-2])\n",
        "print(\"a[:]==\",a[:])"
      ],
      "execution_count": 7,
      "outputs": [
        {
          "output_type": "stream",
          "text": [
            "a[0:2]== [10, 20] , a[1:]== [20, 30, 40, 50]\n",
            "a[:3]== [10, 20, 30] , a[:-2]== [10, 20, 30]\n",
            "a[:]== [10, 20, 30, 40, 50]\n"
          ],
          "name": "stdout"
        }
      ]
    },
    {
      "metadata": {
        "id": "T-lMlcGp_c5L",
        "colab_type": "text"
      },
      "cell_type": "markdown",
      "source": [
        "###튜플의 부분 선택(슬라이싱)"
      ]
    },
    {
      "metadata": {
        "id": "2jcjAxvxCP-7",
        "colab_type": "code",
        "colab": {}
      },
      "cell_type": "code",
      "source": [
        "a=(10,20,30,40,50)"
      ],
      "execution_count": 0,
      "outputs": []
    },
    {
      "metadata": {
        "id": "itOqFWWC-fHs",
        "colab_type": "code",
        "colab": {
          "base_uri": "https://localhost:8080/",
          "height": 54
        },
        "outputId": "0dad05f1-51f1-4985-809c-3c9288e4a9fb"
      },
      "cell_type": "code",
      "source": [
        "print(\"a[0] ==\", a[0],\", a[-2] ==\", a[-2],\", a[:] ==\", a[:])\n",
        "print(\"a[0:2] ==\", a[0:2],\", a[1:] ==\", a[1:])"
      ],
      "execution_count": 12,
      "outputs": [
        {
          "output_type": "stream",
          "text": [
            "a[0] == 10 , a[-2] == 40 , a[:] == (10, 20, 30, 40, 50)\n",
            "a[0:2] == (10, 20) , a[1:] == (20, 30, 40, 50)\n"
          ],
          "name": "stdout"
        }
      ]
    },
    {
      "metadata": {
        "id": "BTjqwCKOABNi",
        "colab_type": "code",
        "colab": {
          "base_uri": "https://localhost:8080/",
          "height": 173
        },
        "outputId": "2d093fdc-044b-4079-ecb1-f3b75e18999f"
      },
      "cell_type": "code",
      "source": [
        "a[0]=100  #a[0]값을 100으로 변경하려하기 때문에 에러 발생 - 튜플"
      ],
      "execution_count": 13,
      "outputs": [
        {
          "output_type": "error",
          "ename": "TypeError",
          "evalue": "ignored",
          "traceback": [
            "\u001b[0;31m---------------------------------------------------------------------------\u001b[0m",
            "\u001b[0;31mTypeError\u001b[0m                                 Traceback (most recent call last)",
            "\u001b[0;32m<ipython-input-13-b2f111f61884>\u001b[0m in \u001b[0;36m<module>\u001b[0;34m()\u001b[0m\n\u001b[0;32m----> 1\u001b[0;31m \u001b[0ma\u001b[0m\u001b[0;34m[\u001b[0m\u001b[0;36m0\u001b[0m\u001b[0;34m]\u001b[0m\u001b[0;34m=\u001b[0m\u001b[0;36m100\u001b[0m  \u001b[0;31m#a[0]값을 100으로 변경하려하기 때문에 에러 발생\u001b[0m\u001b[0;34m\u001b[0m\u001b[0m\n\u001b[0m",
            "\u001b[0;31mTypeError\u001b[0m: 'tuple' object does not support item assignment"
          ]
        }
      ]
    },
    {
      "metadata": {
        "id": "5hgnRIhDCoEr",
        "colab_type": "text"
      },
      "cell_type": "markdown",
      "source": [
        "###딕셔너리"
      ]
    },
    {
      "metadata": {
        "id": "BE0MELgWAKfk",
        "colab_type": "code",
        "colab": {}
      },
      "cell_type": "code",
      "source": [
        "score={\"KIM\":90, \"LEE\":85, \"JUN\":95} #dictionary 생성"
      ],
      "execution_count": 0,
      "outputs": []
    },
    {
      "metadata": {
        "id": "gOrHw5DIC6Kl",
        "colab_type": "code",
        "colab": {
          "base_uri": "https://localhost:8080/",
          "height": 35
        },
        "outputId": "08bf937e-a69b-4f85-d6eb-e3d40804b51d"
      },
      "cell_type": "code",
      "source": [
        "print(\"score['KIM'] ==\",score['KIM']) #원소 접근"
      ],
      "execution_count": 15,
      "outputs": [
        {
          "output_type": "stream",
          "text": [
            "score['KIM'] == 90\n"
          ],
          "name": "stdout"
        }
      ]
    },
    {
      "metadata": {
        "id": "6S96kNKfDiiV",
        "colab_type": "code",
        "colab": {
          "base_uri": "https://localhost:8080/",
          "height": 35
        },
        "outputId": "8408f9d4-9cef-4138-b4b7-e053e7f2b18d"
      },
      "cell_type": "code",
      "source": [
        "score"
      ],
      "execution_count": 20,
      "outputs": [
        {
          "output_type": "execute_result",
          "data": {
            "text/plain": [
              "{'HAN': 100, 'JUN': 95, 'KIM': 90, 'LEE': 85}"
            ]
          },
          "metadata": {
            "tags": []
          },
          "execution_count": 20
        }
      ]
    },
    {
      "metadata": {
        "id": "viEREDpSDGfq",
        "colab_type": "code",
        "colab": {}
      },
      "cell_type": "code",
      "source": [
        "score['HAN']=100"
      ],
      "execution_count": 0,
      "outputs": []
    },
    {
      "metadata": {
        "id": "0DAXn-vpDMXz",
        "colab_type": "code",
        "colab": {
          "base_uri": "https://localhost:8080/",
          "height": 35
        },
        "outputId": "0f1822a6-2ab9-4402-b13c-6f07f2a4c09c"
      },
      "cell_type": "code",
      "source": [
        "print(score)"
      ],
      "execution_count": 17,
      "outputs": [
        {
          "output_type": "stream",
          "text": [
            "{'KIM': 90, 'LEE': 85, 'JUN': 95, 'HAN': 100}\n"
          ],
          "name": "stdout"
        }
      ]
    },
    {
      "metadata": {
        "id": "kyRZxAoTDOOw",
        "colab_type": "code",
        "colab": {
          "base_uri": "https://localhost:8080/",
          "height": 72
        },
        "outputId": "35a02fe8-c8ae-4032-96e7-09522d0b3423"
      },
      "cell_type": "code",
      "source": [
        "print(\"score key==\",score.keys())\n",
        "print(\"score value==\",score.values())\n",
        "print(\"score items==\",score.items())"
      ],
      "execution_count": 21,
      "outputs": [
        {
          "output_type": "stream",
          "text": [
            "score key== dict_keys(['KIM', 'LEE', 'JUN', 'HAN'])\n",
            "score value== dict_values([90, 85, 95, 100])\n",
            "score items== dict_items([('KIM', 90), ('LEE', 85), ('JUN', 95), ('HAN', 100)])\n"
          ],
          "name": "stdout"
        }
      ]
    },
    {
      "metadata": {
        "id": "f28lsfxiEdwD",
        "colab_type": "text"
      },
      "cell_type": "markdown",
      "source": [
        "###string"
      ]
    },
    {
      "metadata": {
        "id": "0MaZVesKDfeh",
        "colab_type": "code",
        "colab": {}
      },
      "cell_type": "code",
      "source": [
        "a='A73,CD'"
      ],
      "execution_count": 0,
      "outputs": []
    },
    {
      "metadata": {
        "id": "1YvkUAR5EjUP",
        "colab_type": "code",
        "colab": {
          "base_uri": "https://localhost:8080/",
          "height": 35
        },
        "outputId": "0fccff5a-1db3-48ec-b3a3-dc94a992cc2f"
      },
      "cell_type": "code",
      "source": [
        "a[1]"
      ],
      "execution_count": 23,
      "outputs": [
        {
          "output_type": "execute_result",
          "data": {
            "text/plain": [
              "'7'"
            ]
          },
          "metadata": {
            "tags": []
          },
          "execution_count": 23
        }
      ]
    },
    {
      "metadata": {
        "id": "Ndn9df7fEmJy",
        "colab_type": "code",
        "colab": {
          "base_uri": "https://localhost:8080/",
          "height": 173
        },
        "outputId": "d9eacf29-4de5-422d-adb3-27eef5291503"
      },
      "cell_type": "code",
      "source": [
        "a[7]"
      ],
      "execution_count": 25,
      "outputs": [
        {
          "output_type": "error",
          "ename": "IndexError",
          "evalue": "ignored",
          "traceback": [
            "\u001b[0;31m---------------------------------------------------------------------------\u001b[0m",
            "\u001b[0;31mIndexError\u001b[0m                                Traceback (most recent call last)",
            "\u001b[0;32m<ipython-input-25-9cf13ba20553>\u001b[0m in \u001b[0;36m<module>\u001b[0;34m()\u001b[0m\n\u001b[0;32m----> 1\u001b[0;31m \u001b[0ma\u001b[0m\u001b[0;34m[\u001b[0m\u001b[0;36m7\u001b[0m\u001b[0;34m]\u001b[0m\u001b[0;34m\u001b[0m\u001b[0m\n\u001b[0m",
            "\u001b[0;31mIndexError\u001b[0m: string index out of range"
          ]
        }
      ]
    },
    {
      "metadata": {
        "id": "jaPm9x7tEo7F",
        "colab_type": "code",
        "colab": {
          "base_uri": "https://localhost:8080/",
          "height": 35
        },
        "outputId": "d958669f-325d-48c1-c492-631c331ca099"
      },
      "cell_type": "code",
      "source": [
        "a=a+', EFG'\n",
        "a"
      ],
      "execution_count": 26,
      "outputs": [
        {
          "output_type": "execute_result",
          "data": {
            "text/plain": [
              "'A73,CD, EFG'"
            ]
          },
          "metadata": {
            "tags": []
          },
          "execution_count": 26
        }
      ]
    },
    {
      "metadata": {
        "id": "OkZhH2C3E2Ik",
        "colab_type": "code",
        "colab": {}
      },
      "cell_type": "code",
      "source": [
        "b=a.split(',')  #split 함수는 문자열 데이터 전처리하기 위해 자주 사용- 문자열 분리 기능"
      ],
      "execution_count": 0,
      "outputs": []
    },
    {
      "metadata": {
        "id": "bzeEhRuBFCXA",
        "colab_type": "code",
        "colab": {
          "base_uri": "https://localhost:8080/",
          "height": 35
        },
        "outputId": "a8108338-994f-4f82-da52-844231aff563"
      },
      "cell_type": "code",
      "source": [
        "print(b)"
      ],
      "execution_count": 30,
      "outputs": [
        {
          "output_type": "stream",
          "text": [
            "['A73', 'CD', ' EFG']\n"
          ],
          "name": "stdout"
        }
      ]
    },
    {
      "metadata": {
        "id": "K2QbfzuQFZpa",
        "colab_type": "text"
      },
      "cell_type": "markdown",
      "source": [
        "##Useful functions in python\n",
        "\n",
        "- type(), len(),size()\n",
        "- int(), str()\n",
        "- list()"
      ]
    },
    {
      "metadata": {
        "id": "Hqv7Xe57Gd77",
        "colab_type": "text"
      },
      "cell_type": "markdown",
      "source": [
        "###Useful function:type(),len(),size()"
      ]
    },
    {
      "metadata": {
        "id": "v2BteEZZFIqR",
        "colab_type": "code",
        "colab": {}
      },
      "cell_type": "code",
      "source": [
        "a=[10,20,30,40,50]\n",
        "b=(10,20,30,40,50)\n",
        "c={\"KIM\":90, \"LEE\":80 }\n",
        "d='Seoul, Korea'\n",
        "e=[ [100, 200], [300,400], [500,600]]"
      ],
      "execution_count": 0,
      "outputs": []
    },
    {
      "metadata": {
        "id": "GWpFEnWZG7Gd",
        "colab_type": "code",
        "colab": {
          "base_uri": "https://localhost:8080/",
          "height": 35
        },
        "outputId": "f9264d3e-0cb9-48ff-cf52-651ab52323b8"
      },
      "cell_type": "code",
      "source": [
        "print(type(a),type(b),type(c),type(d),type(e),)"
      ],
      "execution_count": 32,
      "outputs": [
        {
          "output_type": "stream",
          "text": [
            "<class 'list'> <class 'tuple'> <class 'dict'> <class 'str'> <class 'list'>\n"
          ],
          "name": "stdout"
        }
      ]
    },
    {
      "metadata": {
        "id": "UnGfq5oSHCUd",
        "colab_type": "code",
        "colab": {
          "base_uri": "https://localhost:8080/",
          "height": 35
        },
        "outputId": "9e2126bb-366b-4898-be07-5770bda275e7"
      },
      "cell_type": "code",
      "source": [
        "print(len(a),len(b),len(c),len(d),len(e)) #공백도 하나로 카운트"
      ],
      "execution_count": 33,
      "outputs": [
        {
          "output_type": "stream",
          "text": [
            "5 5 2 12 3\n"
          ],
          "name": "stdout"
        }
      ]
    },
    {
      "metadata": {
        "id": "fuBBpgP-HPqY",
        "colab_type": "code",
        "colab": {
          "base_uri": "https://localhost:8080/",
          "height": 173
        },
        "outputId": "4a72cfa6-72db-4627-ead3-b2348b99f512"
      },
      "cell_type": "code",
      "source": [
        "print(size(e))#size함수는 list에 쓸수없다."
      ],
      "execution_count": 34,
      "outputs": [
        {
          "output_type": "error",
          "ename": "NameError",
          "evalue": "ignored",
          "traceback": [
            "\u001b[0;31m---------------------------------------------------------------------------\u001b[0m",
            "\u001b[0;31mNameError\u001b[0m                                 Traceback (most recent call last)",
            "\u001b[0;32m<ipython-input-34-034bf5a03726>\u001b[0m in \u001b[0;36m<module>\u001b[0;34m()\u001b[0m\n\u001b[0;32m----> 1\u001b[0;31m \u001b[0mprint\u001b[0m\u001b[0;34m(\u001b[0m\u001b[0msize\u001b[0m\u001b[0;34m(\u001b[0m\u001b[0me\u001b[0m\u001b[0;34m)\u001b[0m\u001b[0;34m)\u001b[0m\u001b[0;34m\u001b[0m\u001b[0m\n\u001b[0m",
            "\u001b[0;31mNameError\u001b[0m: name 'size' is not defined"
          ]
        }
      ]
    },
    {
      "metadata": {
        "id": "mUX_8atAH9ZD",
        "colab_type": "text"
      },
      "cell_type": "markdown",
      "source": [
        "###Functions; int(),str(),list()"
      ]
    },
    {
      "metadata": {
        "id": "npXbL2w9HSrq",
        "colab_type": "code",
        "colab": {}
      },
      "cell_type": "code",
      "source": [
        "a='Hello'\n",
        "b={\"KIM\":90, \"LEE\":80}"
      ],
      "execution_count": 0,
      "outputs": []
    },
    {
      "metadata": {
        "id": "6YsdYcT3IXey",
        "colab_type": "code",
        "colab": {
          "base_uri": "https://localhost:8080/",
          "height": 35
        },
        "outputId": "8fe4edd5-6f50-4e3e-a214-c35f281ef2e5"
      },
      "cell_type": "code",
      "source": [
        "print(list(a),list(b.keys()), list(b.values()),list(b.items()))"
      ],
      "execution_count": 37,
      "outputs": [
        {
          "output_type": "stream",
          "text": [
            "['H', 'e', 'l', 'l', 'o'] ['KIM', 'LEE'] [90, 80] [('KIM', 90), ('LEE', 80)]\n"
          ],
          "name": "stdout"
        }
      ]
    },
    {
      "metadata": {
        "id": "t2z4I_2fInik",
        "colab_type": "code",
        "colab": {}
      },
      "cell_type": "code",
      "source": [
        ""
      ],
      "execution_count": 0,
      "outputs": []
    }
  ]
}